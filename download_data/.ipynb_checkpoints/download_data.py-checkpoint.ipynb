{
 "cells": [
  {
   "cell_type": "code",
   "execution_count": null,
   "metadata": {},
   "outputs": [],
   "source": [
    "# url = 'https://www.quandl.com/api/v3/datasets/{stock_code}?&api_key={api_key}'\n",
    "url = 'https://www.quandl.com/api/v3/datasets/{stock_code}.csv?api_key={api_key}'\n",
    "stock_code = 'BSE/BOM517421'\n",
    "with open('../../api_key') as fp:\n",
    "    api_key = fp.readlines()[0].strip()\n",
    "formatted_url = url.format(stock_code=stock_code, api_key=api_key)\n",
    "print formatted_url"
   ]
  },
  {
   "cell_type": "code",
   "execution_count": null,
   "metadata": {},
   "outputs": [],
   "source": [
    "codes = []\n",
    "with open('BSE-datasets-codes.csv') as fp:\n",
    "    for line in fp:\n",
    "        codes.append(line.split(',')[0])\n",
    "    \n",
    "print (codes[0], \"len=\", len(codes))"
   ]
  },
  {
   "cell_type": "code",
   "execution_count": null,
   "metadata": {},
   "outputs": [],
   "source": [
    "import urllib2, json\n",
    "import os.path, os\n",
    "\n",
    "i=0\n",
    "if not os.path.exists('data'):\n",
    "    os.mkdir('data')\n",
    "\n",
    "log_file = open('errors.log', 'w')\n",
    "\n",
    "count = 0\n",
    "for code in codes:\n",
    "    try:\n",
    "        print ('downloading ' + str(code) + ' (file {x} of {y})').format(x=count, y=len(codes))\n",
    "        formatted_url = url.format(stock_code=code, api_key=api_key)\n",
    "        resp = urllib2.urlopen(formatted_url)\n",
    "\n",
    "        file_name = 'data/' + code.replace('/', '_') + '.csv'\n",
    "        while os.path.isfile(file_name):\n",
    "            file_name = 'data/' + code.replace('/', '_') + '_' + str(i) + '.csv'\n",
    "            i += 1\n",
    "\n",
    "        with open(file_name, 'w') as fp:\n",
    "            fp.write(resp.read())\n",
    "        count += 1\n",
    "    except Exception as e:\n",
    "        print 'failed to download ' + code\n",
    "        print str(e)\n",
    "        log_file.write(code + ' | ' + str(e) + '\\n')\n",
    "\n",
    "log_file.close()\n",
    "\n",
    "print 'Number of stocks in BSE: %d' % len(codes)\n",
    "print 'Number of files downloaded %d' % count"
   ]
  },
  {
   "cell_type": "code",
   "execution_count": null,
   "metadata": {
    "collapsed": true
   },
   "outputs": [],
   "source": [
    "def download_code(code):\n",
    "#     try\n",
    "    print 'downloading ' + str(code)\n",
    "    formatted_url = url.format(stock_code=code, api_key=api_key)\n",
    "    resp = urllib2.urlopen(formatted_url)\n",
    "\n",
    "    file_name = 'data/' + code.replace('/', '_') + '.csv'\n",
    "    i=0\n",
    "    while os.path.isfile(file_name):\n",
    "        file_name = 'data/' + code.replace('/', '_') + '_' + str(i) + '.csv'\n",
    "        i += 1\n",
    "\n",
    "    with open(file_name, 'w') as fp:\n",
    "        fp.write(resp.read())\n",
    "#     except Exception as e:\n",
    "#     print 'failed to download ' + code\n",
    "#     print str(e)\n",
    "#     log_file.write(code + ' | ' + str(e) + '\\n')"
   ]
  },
  {
   "cell_type": "code",
   "execution_count": null,
   "metadata": {},
   "outputs": [],
   "source": [
    "from time import sleep\n",
    "\n",
    "btime = 1\n",
    "def backoff():\n",
    "    global btime\n",
    "    if btime <= 120:\n",
    "        btime += 1\n",
    "    return btime\n",
    "\n",
    "def reset_backoff():\n",
    "    print 'restting backoff to 1 sec'\n",
    "    global btime\n",
    "    btime = 1\n",
    "    \n",
    "\n",
    "with open('errors.log', 'r') as err_file:\n",
    "    lines = err_file.readlines()\n",
    "    \n",
    "new_errors = open('new_errors.log', 'w')\n",
    "\n",
    "print 'no of errors: %d' % len(lines)\n",
    "count = 1\n",
    "for line in lines:\n",
    "    code = line.split('|')[0].strip()\n",
    "    \n",
    "    while(True):\n",
    "        try:\n",
    "            download_code(code)\n",
    "            reset_backoff()\n",
    "            break\n",
    "        except Exception as e:\n",
    "            print e\n",
    "            if isinstance(e, urllib2.HTTPError):\n",
    "                if e.code == 429:\n",
    "                    btime = backoff()\n",
    "                    print 'freakin slow site. Sleeping for %d seconds' % btime\n",
    "                    sleep(btime)\n",
    "                    continue\n",
    "                else:\n",
    "                    print 'wtf' + str(e)\n",
    "                    new_errors.write(code + ' | ' + str(e) + '\\n')\n",
    "                    break\n",
    "            else:\n",
    "                print 'really wtf' + str(e)\n",
    "                new_errors.write(code + ' | ' + str(e) + '\\n')\n",
    "                break\n",
    "    # end while\n",
    "    print 'Downloaded file {x} of {y}'.format(x=count, y=len(lines))\n",
    "    count += 1\n",
    "    \n",
    "new_errors.close()\n"
   ]
  },
  {
   "cell_type": "code",
   "execution_count": null,
   "metadata": {
    "collapsed": true
   },
   "outputs": [],
   "source": []
  }
 ],
 "metadata": {
  "kernelspec": {
   "display_name": "Python 2",
   "language": "python",
   "name": "python2"
  },
  "language_info": {
   "codemirror_mode": {
    "name": "ipython",
    "version": 2
   },
   "file_extension": ".py",
   "mimetype": "text/x-python",
   "name": "python",
   "nbconvert_exporter": "python",
   "pygments_lexer": "ipython2",
   "version": "2.7.13"
  }
 },
 "nbformat": 4,
 "nbformat_minor": 2
}
