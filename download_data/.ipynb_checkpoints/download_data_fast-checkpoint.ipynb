{
 "cells": [
  {
   "cell_type": "code",
   "execution_count": null,
   "metadata": {},
   "outputs": [],
   "source": [
    "# url = 'https://www.quandl.com/api/v3/datasets/{stock_code}?&api_key={api_key}'\n",
    "url = 'https://www.quandl.com/api/v3/datasets/{stock_code}.csv?api_key={api_key}'\n",
    "stock_code = 'BSE/BOM517421'\n",
    "with open('../../api_key') as fp:\n",
    "    api_key = fp.readlines()[0].strip()\n",
    "\n",
    "formatted_url = url.format(stock_code=stock_code, api_key=api_key)\n",
    "print formatted_url"
   ]
  },
  {
   "cell_type": "code",
   "execution_count": null,
   "metadata": {},
   "outputs": [],
   "source": [
    "codes = []\n",
    "with open('BSE-datasets-codes.csv') as fp:\n",
    "    for line in fp:\n",
    "        codes.append(line.split(',')[0])\n",
    "    \n",
    "print (codes[0], \"len=\", len(codes))"
   ]
  },
  {
   "cell_type": "code",
   "execution_count": null,
   "metadata": {},
   "outputs": [],
   "source": [
    "import urllib2, json\n",
    "import os.path, os\n",
    "import threading\n",
    "from time import sleep\n",
    "\n",
    "DIR_NAME = 'data_new/'\n",
    "\n",
    "def download_csv(code):\n",
    "#     global i\n",
    "#     global count\n",
    "    retry_count =0     \n",
    "    while(True):\n",
    "        try:\n",
    "    #         print ('downloading ' + str(code) + ' (file {x} of {y})').format(x=count, y=len(codes))\n",
    "            print 'downloading ' + str(code) + '\\n'\n",
    "            formatted_url = url.format(stock_code=code, api_key=api_key)\n",
    "            resp = urllib2.urlopen(formatted_url)\n",
    "\n",
    "            file_name = DIR_NAME + code.replace('/', '_') + '.csv'\n",
    "            i=1\n",
    "            while os.path.isfile(file_name):\n",
    "                file_name = DIR_NAME + code.replace('/', '_') + '_' + str(i) + '.csv'\n",
    "                i += 1\n",
    "\n",
    "            with open(file_name, 'w') as fp:\n",
    "                fp.write(resp.read())\n",
    "        except Exception as e:\n",
    "            print e\n",
    "            if isinstance(e, urllib2.HTTPError):\n",
    "                if e.code == 429 and retry_count < 10:\n",
    "                    sleep(2)\n",
    "                    retry_count += 1\n",
    "                    continue\n",
    "                elif retry_count == 10:\n",
    "                    print 'failed to download ' + code + '\\n'\n",
    "                    print str(e)\n",
    "                    with lock:\n",
    "                        log_file.write(code + ' | ' + str(e) + '\\n')\n",
    "                    break\n",
    "                else:\n",
    "                    print 'haaawww'\n",
    "                    \n",
    "            else:\n",
    "                print 'failed to download ' + code + '\\n'\n",
    "                print str(e)\n",
    "                with lock:\n",
    "                    log_file.write(code + ' | ' + str(e) + '\\n')\n",
    "                break\n",
    "            # end except\n",
    "        break\n",
    "    # end while\n",
    "    print 'finished downloading ' + str(code) + '\\n'\n",
    "\n",
    "\n",
    "i=0\n",
    "count = 0\n",
    "lock = threading.Lock()\n",
    "if not os.path.exists(DIR_NAME):\n",
    "    os.mkdir(DIR_NAME)\n",
    "\n",
    "log_file = open('errors_new.log', 'w')\n",
    "\n",
    "\n",
    "from multiprocessing.pool import ThreadPool\n",
    "ThreadPool().imap_unordered(download_csv, codes)\n",
    "\n",
    "\n",
    "log_file.close()\n",
    "\n",
    "print 'Number of stocks in BSE: %d' % len(codes)\n",
    "# print 'Number of files downloaded %d' % count"
   ]
  },
  {
   "cell_type": "code",
   "execution_count": null,
   "metadata": {
    "collapsed": true
   },
   "outputs": [],
   "source": [
    "import os.path\n",
    "\n",
    "if os.path.isfile('BSE_BOM500002'):\n",
    "    print \"!!!\""
   ]
  },
  {
   "cell_type": "code",
   "execution_count": null,
   "metadata": {
    "collapsed": true
   },
   "outputs": [],
   "source": []
  }
 ],
 "metadata": {
  "kernelspec": {
   "display_name": "Python 2",
   "language": "python",
   "name": "python2"
  },
  "language_info": {
   "codemirror_mode": {
    "name": "ipython",
    "version": 2
   },
   "file_extension": ".py",
   "mimetype": "text/x-python",
   "name": "python",
   "nbconvert_exporter": "python",
   "pygments_lexer": "ipython2",
   "version": "2.7.13"
  }
 },
 "nbformat": 4,
 "nbformat_minor": 2
}
