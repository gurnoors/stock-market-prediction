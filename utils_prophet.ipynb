{
 "cells": [
  {
   "cell_type": "code",
   "execution_count": 15,
   "metadata": {},
   "outputs": [],
   "source": [
    "import pandas as pd\n",
    "import numpy as np\n",
    "from fbprophet import Prophet\n",
    "from datetime import datetime, timedelta"
   ]
  },
  {
   "cell_type": "code",
   "execution_count": 55,
   "metadata": {},
   "outputs": [],
   "source": [
    "def read_file(filename):\n",
    "    df_raw = pd.read_csv(filename)\n",
    "    return df_raw\n",
    "\n",
    "def preprocess(df_raw):\n",
    "    df_stock = df_raw.filter(['Date', 'Close'], axis=1)\n",
    "    df_stock.columns = ['ds', 'y']\n",
    "    return df_stock\n",
    "    \n",
    "def train_model(df_stock):\n",
    "    model = Prophet()\n",
    "    model.fit(df_stock)\n",
    "    return model\n",
    "\n",
    "def predict(model, period):\n",
    "    future_data = model.make_future_dataframe(periods = period)\n",
    "    forecast = model.predict(future_data)\n",
    "    return forecast\n",
    "\n",
    "def get_forecasted_data(forecast, period):\n",
    "    \n",
    "    current_date = datetime.now().date()\n",
    "    current_date = current_date.strftime('%d-%m-%Y')\n",
    "    forecasted_till = datetime.now().date() + timedelta(days=period)\n",
    "    forecasted_till = forecasted_till.strftime('%d-%m-%Y')\n",
    "    forecast_range = forecast[(forecast.ds > current_date) & (forecast.ds <= forecasted_till)][[\"ds\", \"yhat\",\"yhat_lower\", \"yhat_upper\"]]\n",
    "    \n",
    "    return forecast_range"
   ]
  },
  {
   "cell_type": "code",
   "execution_count": 48,
   "metadata": {},
   "outputs": [],
   "source": [
    "filename = 'data/data/data/BSE_BOM500002.csv'\n",
    "df_raw = read_file(filename)\n",
    "df_stock = preprocess(df_raw)"
   ]
  },
  {
   "cell_type": "code",
   "execution_count": 44,
   "metadata": {},
   "outputs": [
    {
     "name": "stderr",
     "output_type": "stream",
     "text": [
      "INFO:fbprophet.forecaster:Disabling daily seasonality. Run prophet with daily_seasonality=True to override this.\n"
     ]
    }
   ],
   "source": [
    "model = train_model(df_stock)"
   ]
  },
  {
   "cell_type": "code",
   "execution_count": 49,
   "metadata": {},
   "outputs": [
    {
     "data": {
      "text/html": [
       "<div>\n",
       "<style scoped>\n",
       "    .dataframe tbody tr th:only-of-type {\n",
       "        vertical-align: middle;\n",
       "    }\n",
       "\n",
       "    .dataframe tbody tr th {\n",
       "        vertical-align: top;\n",
       "    }\n",
       "\n",
       "    .dataframe thead th {\n",
       "        text-align: right;\n",
       "    }\n",
       "</style>\n",
       "<table border=\"1\" class=\"dataframe\">\n",
       "  <thead>\n",
       "    <tr style=\"text-align: right;\">\n",
       "      <th></th>\n",
       "      <th>ds</th>\n",
       "      <th>trend</th>\n",
       "      <th>trend_lower</th>\n",
       "      <th>trend_upper</th>\n",
       "      <th>yhat_lower</th>\n",
       "      <th>yhat_upper</th>\n",
       "      <th>seasonal</th>\n",
       "      <th>seasonal_lower</th>\n",
       "      <th>seasonal_upper</th>\n",
       "      <th>seasonalities</th>\n",
       "      <th>seasonalities_lower</th>\n",
       "      <th>seasonalities_upper</th>\n",
       "      <th>weekly</th>\n",
       "      <th>weekly_lower</th>\n",
       "      <th>weekly_upper</th>\n",
       "      <th>yearly</th>\n",
       "      <th>yearly_lower</th>\n",
       "      <th>yearly_upper</th>\n",
       "      <th>yhat</th>\n",
       "    </tr>\n",
       "  </thead>\n",
       "  <tbody>\n",
       "    <tr>\n",
       "      <th>0</th>\n",
       "      <td>1992-03-02</td>\n",
       "      <td>626.642719</td>\n",
       "      <td>626.642719</td>\n",
       "      <td>626.642719</td>\n",
       "      <td>348.039327</td>\n",
       "      <td>946.972972</td>\n",
       "      <td>29.680736</td>\n",
       "      <td>29.680736</td>\n",
       "      <td>29.680736</td>\n",
       "      <td>29.680736</td>\n",
       "      <td>29.680736</td>\n",
       "      <td>29.680736</td>\n",
       "      <td>13.021559</td>\n",
       "      <td>13.021559</td>\n",
       "      <td>13.021559</td>\n",
       "      <td>16.659177</td>\n",
       "      <td>16.659177</td>\n",
       "      <td>16.659177</td>\n",
       "      <td>656.323455</td>\n",
       "    </tr>\n",
       "    <tr>\n",
       "      <th>1</th>\n",
       "      <td>1992-03-03</td>\n",
       "      <td>626.671210</td>\n",
       "      <td>626.671210</td>\n",
       "      <td>626.671210</td>\n",
       "      <td>361.639064</td>\n",
       "      <td>946.794105</td>\n",
       "      <td>28.470053</td>\n",
       "      <td>28.470053</td>\n",
       "      <td>28.470053</td>\n",
       "      <td>28.470053</td>\n",
       "      <td>28.470053</td>\n",
       "      <td>28.470053</td>\n",
       "      <td>12.712019</td>\n",
       "      <td>12.712019</td>\n",
       "      <td>12.712019</td>\n",
       "      <td>15.758034</td>\n",
       "      <td>15.758034</td>\n",
       "      <td>15.758034</td>\n",
       "      <td>655.141263</td>\n",
       "    </tr>\n",
       "    <tr>\n",
       "      <th>2</th>\n",
       "      <td>1992-03-10</td>\n",
       "      <td>626.870644</td>\n",
       "      <td>626.870644</td>\n",
       "      <td>626.870644</td>\n",
       "      <td>361.604720</td>\n",
       "      <td>941.849867</td>\n",
       "      <td>23.207759</td>\n",
       "      <td>23.207759</td>\n",
       "      <td>23.207759</td>\n",
       "      <td>23.207759</td>\n",
       "      <td>23.207759</td>\n",
       "      <td>23.207759</td>\n",
       "      <td>12.712019</td>\n",
       "      <td>12.712019</td>\n",
       "      <td>12.712019</td>\n",
       "      <td>10.495739</td>\n",
       "      <td>10.495739</td>\n",
       "      <td>10.495739</td>\n",
       "      <td>650.078402</td>\n",
       "    </tr>\n",
       "    <tr>\n",
       "      <th>3</th>\n",
       "      <td>1992-03-11</td>\n",
       "      <td>626.899134</td>\n",
       "      <td>626.899134</td>\n",
       "      <td>626.899134</td>\n",
       "      <td>356.784715</td>\n",
       "      <td>976.190074</td>\n",
       "      <td>25.664504</td>\n",
       "      <td>25.664504</td>\n",
       "      <td>25.664504</td>\n",
       "      <td>25.664504</td>\n",
       "      <td>25.664504</td>\n",
       "      <td>25.664504</td>\n",
       "      <td>15.527831</td>\n",
       "      <td>15.527831</td>\n",
       "      <td>15.527831</td>\n",
       "      <td>10.136673</td>\n",
       "      <td>10.136673</td>\n",
       "      <td>10.136673</td>\n",
       "      <td>652.563638</td>\n",
       "    </tr>\n",
       "    <tr>\n",
       "      <th>4</th>\n",
       "      <td>1992-03-12</td>\n",
       "      <td>626.927625</td>\n",
       "      <td>626.927625</td>\n",
       "      <td>626.927625</td>\n",
       "      <td>339.144396</td>\n",
       "      <td>949.116243</td>\n",
       "      <td>21.627224</td>\n",
       "      <td>21.627224</td>\n",
       "      <td>21.627224</td>\n",
       "      <td>21.627224</td>\n",
       "      <td>21.627224</td>\n",
       "      <td>21.627224</td>\n",
       "      <td>11.708874</td>\n",
       "      <td>11.708874</td>\n",
       "      <td>11.708874</td>\n",
       "      <td>9.918350</td>\n",
       "      <td>9.918350</td>\n",
       "      <td>9.918350</td>\n",
       "      <td>648.554849</td>\n",
       "    </tr>\n",
       "  </tbody>\n",
       "</table>\n",
       "</div>"
      ],
      "text/plain": [
       "          ds       trend  trend_lower  trend_upper  yhat_lower  yhat_upper  \\\n",
       "0 1992-03-02  626.642719   626.642719   626.642719  348.039327  946.972972   \n",
       "1 1992-03-03  626.671210   626.671210   626.671210  361.639064  946.794105   \n",
       "2 1992-03-10  626.870644   626.870644   626.870644  361.604720  941.849867   \n",
       "3 1992-03-11  626.899134   626.899134   626.899134  356.784715  976.190074   \n",
       "4 1992-03-12  626.927625   626.927625   626.927625  339.144396  949.116243   \n",
       "\n",
       "    seasonal  seasonal_lower  seasonal_upper  seasonalities  \\\n",
       "0  29.680736       29.680736       29.680736      29.680736   \n",
       "1  28.470053       28.470053       28.470053      28.470053   \n",
       "2  23.207759       23.207759       23.207759      23.207759   \n",
       "3  25.664504       25.664504       25.664504      25.664504   \n",
       "4  21.627224       21.627224       21.627224      21.627224   \n",
       "\n",
       "   seasonalities_lower  seasonalities_upper     weekly  weekly_lower  \\\n",
       "0            29.680736            29.680736  13.021559     13.021559   \n",
       "1            28.470053            28.470053  12.712019     12.712019   \n",
       "2            23.207759            23.207759  12.712019     12.712019   \n",
       "3            25.664504            25.664504  15.527831     15.527831   \n",
       "4            21.627224            21.627224  11.708874     11.708874   \n",
       "\n",
       "   weekly_upper     yearly  yearly_lower  yearly_upper        yhat  \n",
       "0     13.021559  16.659177     16.659177     16.659177  656.323455  \n",
       "1     12.712019  15.758034     15.758034     15.758034  655.141263  \n",
       "2     12.712019  10.495739     10.495739     10.495739  650.078402  \n",
       "3     15.527831  10.136673     10.136673     10.136673  652.563638  \n",
       "4     11.708874   9.918350      9.918350      9.918350  648.554849  "
      ]
     },
     "execution_count": 49,
     "metadata": {},
     "output_type": "execute_result"
    }
   ],
   "source": [
    "\n",
    "forecast = predict(model, 1000)\n",
    "forecast.head()\n",
    "#model.plot(forecast)"
   ]
  },
  {
   "cell_type": "code",
   "execution_count": 58,
   "metadata": {},
   "outputs": [
    {
     "data": {
      "text/plain": [
       "(989, 4)"
      ]
     },
     "execution_count": 58,
     "metadata": {},
     "output_type": "execute_result"
    }
   ],
   "source": [
    "forecast_range = get_forecasted_data(forecast, 1000)\n",
    "forecast_range.shape"
   ]
  },
  {
   "cell_type": "code",
   "execution_count": 93,
   "metadata": {},
   "outputs": [
    {
     "name": "stdout",
     "output_type": "stream",
     "text": [
      "BSE_BOM500003.csv\n",
      "BSE_BOM500002.csv\n",
      "BSE_BOM500002_0.csv\n",
      "BSE_BOM500008.csv\n",
      "BSE_BOM500009.csv\n"
     ]
    }
   ],
   "source": [
    "import os\n",
    "#def trainAll(foldername):\n",
    "models = list()\n",
    "for filename in os.listdir('dataTest'):\n",
    "    print filename    \n",
    "    if os.path.exists(filename):\n",
    "        df_raw = read_file(filename)\n",
    "        df_stock = preprocess(df_raw)\n",
    "        model = train_model(df_stock)\n",
    "        print model\n",
    "        models.append(model)"
   ]
  },
  {
   "cell_type": "code",
   "execution_count": 81,
   "metadata": {},
   "outputs": [],
   "source": [
    "def predictAll(models):\n",
    "    forecasts = list()\n",
    "    for i in range(0, len(models)):\n",
    "        forecast = predict(models[i], 1000)\n",
    "        forecasts.append(forecast)\n",
    "    return forecasts\n",
    "        #forecast_range = get_forecasted_data(forecast, 1000)\n",
    "        #forecast_range.shape\n",
    "        #return forecast_range"
   ]
  },
  {
   "cell_type": "code",
   "execution_count": 82,
   "metadata": {},
   "outputs": [
    {
     "name": "stdout",
     "output_type": "stream",
     "text": [
      "0\n"
     ]
    }
   ],
   "source": [
    "models = trainAll('dataTest')\n",
    "print len(models)\n",
    "forecasts = predictAll(models)"
   ]
  },
  {
   "cell_type": "code",
   "execution_count": 78,
   "metadata": {},
   "outputs": [
    {
     "name": "stdout",
     "output_type": "stream",
     "text": [
      "0\n"
     ]
    }
   ],
   "source": [
    "print len(forecasts)"
   ]
  },
  {
   "cell_type": "code",
   "execution_count": 105,
   "metadata": {
    "scrolled": false
   },
   "outputs": [
    {
     "name": "stdout",
     "output_type": "stream",
     "text": [
      "1509.755733\n",
      "1513.58\n",
      "1484.982909\n",
      "1509.755733\n",
      "1513.58\n",
      "1484.982909\n"
     ]
    },
    {
     "ename": "NameError",
     "evalue": "name 'data_modelp' is not defined",
     "output_type": "error",
     "traceback": [
      "\u001b[0;31m---------------------------------------------------------------------------\u001b[0m",
      "\u001b[0;31mNameError\u001b[0m                                 Traceback (most recent call last)",
      "\u001b[0;32m<ipython-input-105-8e3a34acf767>\u001b[0m in \u001b[0;36m<module>\u001b[0;34m()\u001b[0m\n\u001b[1;32m     42\u001b[0m \u001b[0;34m\u001b[0m\u001b[0m\n\u001b[1;32m     43\u001b[0m     \u001b[0mdata\u001b[0m \u001b[0;34m=\u001b[0m \u001b[0;34m{\u001b[0m\u001b[0;34m'name'\u001b[0m\u001b[0;34m:\u001b[0m \u001b[0mcompany_name\u001b[0m\u001b[0;34m,\u001b[0m \u001b[0;34m'today_price'\u001b[0m\u001b[0;34m:\u001b[0m \u001b[0mtodays_price\u001b[0m \u001b[0;34m,\u001b[0m \u001b[0;34m'predicted_price'\u001b[0m\u001b[0;34m:\u001b[0m \u001b[0mpredicted_price\u001b[0m\u001b[0;34m,\u001b[0m \u001b[0;34m'max_price'\u001b[0m\u001b[0;34m:\u001b[0m \u001b[0mmax_price\u001b[0m\u001b[0;34m,\u001b[0m \u001b[0;34m'max_price_date'\u001b[0m\u001b[0;34m:\u001b[0m \u001b[0mmax_price_date\u001b[0m\u001b[0;34m}\u001b[0m\u001b[0;34m\u001b[0m\u001b[0m\n\u001b[0;32m---> 44\u001b[0;31m \u001b[0mdata_modelp\u001b[0m\u001b[0;34m[\u001b[0m\u001b[0;34m'company_name'\u001b[0m\u001b[0;34m]\u001b[0m \u001b[0;34m=\u001b[0m \u001b[0mdata\u001b[0m\u001b[0;34m\u001b[0m\u001b[0m\n\u001b[0m\u001b[1;32m     45\u001b[0m     \u001b[0;31m#json_data = json.dumps(data)\u001b[0m\u001b[0;34m\u001b[0m\u001b[0;34m\u001b[0m\u001b[0m\n\u001b[1;32m     46\u001b[0m \u001b[0;34m\u001b[0m\u001b[0m\n",
      "\u001b[0;31mNameError\u001b[0m: name 'data_modelp' is not defined"
     ]
    }
   ],
   "source": [
    "import os\n",
    "import pandas as pd\n",
    "import datetime\n",
    "\n",
    "codes = pd.read_csv('BSE-datasets-codes.csv', sep=',', header = None)\n",
    "#print codes\n",
    "df1 = codes.to_dict(orient = 'records')\n",
    "#print df1\n",
    "\n",
    "dict_codes = dict()\n",
    "for element in df1:\n",
    "    dict_codes[element[0]] = element[1]\n",
    "    \n",
    "#print dict_codes\n",
    "\n",
    "for filename in os.listdir('output/prediction/mprophet'):\n",
    "\n",
    "    df = pd.read_csv('output/prediction/mprophet/' + filename, sep='\\t')\n",
    "    df = df.filter(['ds', 'yhat'], axis=1)\n",
    "    df['ds'] = pd.to_datetime(df['ds'], format=\"%Y-%m-%d\")\n",
    "    now = datetime.datetime.now()\n",
    "    \n",
    "    todays_price = str(df.loc[df['ds'] == str(now.date()), 'yhat']).split()[1]\n",
    "    print todays_price\n",
    "    \n",
    "    mask = (df['ds'] > str(now.date()))\n",
    "    \n",
    "    df = df.loc[mask]\n",
    "    max_price = str(df.loc[df['yhat'].idxmax()]).split()[4]\n",
    "    max_price_date = str(df.loc[df['yhat'].idxmax()]).split()[1]\n",
    "    print max_price\n",
    "    last_row = df.tail(1)\n",
    "    predicted_price = str(last_row['yhat']).split()[1]\n",
    "    print predicted_price\n",
    "    \n",
    "    file_code = filename.split('.')[0].split('_')\n",
    "    #print file_code\n",
    "    \n",
    "    \n",
    "    company_name = dict_codes[file_code[0] + '/' + file_code[1]] \n",
    "    #print company_name\n",
    "    \n",
    "    data = {'name': company_name, 'today_price': todays_price , 'predicted_price': predicted_price, 'max_price': max_price, 'max_price_date': max_price_date}\n",
    "data_modelp['company_name'] = data\n",
    "    #json_data = json.dumps(data)\n",
    "    \n",
    "    \n"
   ]
  },
  {
   "cell_type": "code",
   "execution_count": null,
   "metadata": {},
   "outputs": [],
   "source": []
  },
  {
   "cell_type": "code",
   "execution_count": null,
   "metadata": {},
   "outputs": [],
   "source": []
  }
 ],
 "metadata": {
  "kernelspec": {
   "display_name": "Python 2",
   "language": "python",
   "name": "python2"
  },
  "language_info": {
   "codemirror_mode": {
    "name": "ipython",
    "version": 2
   },
   "file_extension": ".py",
   "mimetype": "text/x-python",
   "name": "python",
   "nbconvert_exporter": "python",
   "pygments_lexer": "ipython2",
   "version": "2.7.14"
  }
 },
 "nbformat": 4,
 "nbformat_minor": 2
}
